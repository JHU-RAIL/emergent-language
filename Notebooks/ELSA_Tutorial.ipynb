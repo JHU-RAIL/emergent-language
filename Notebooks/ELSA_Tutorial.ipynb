{
  "nbformat": 4,
  "nbformat_minor": 0,
  "metadata": {
    "colab": {
      "provenance": [],
      "machine_shape": "hm",
      "gpuType": "V100"
    },
    "kernelspec": {
      "name": "python3",
      "display_name": "Python 3"
    },
    "language_info": {
      "name": "python"
    },
    "accelerator": "GPU"
  },
  "cells": [
    {
      "cell_type": "code",
      "execution_count": null,
      "metadata": {
        "id": "U-Zm4QxNRaMo"
      },
      "outputs": [],
      "source": [
        "import torch\n",
        "import torch.nn as nn\n",
        "import torch.nn.functional as F\n",
        "import random\n",
        "import numpy as np\n",
        "\n",
        "from tqdm import tqdm\n",
        "from torchvision.utils import save_image, make_grid"
      ]
    },
    {
      "cell_type": "code",
      "source": [
        "from google.colab import drive\n",
        "drive.mount('/content/drive')\n"
      ],
      "metadata": {
        "colab": {
          "base_uri": "https://localhost:8080/"
        },
        "id": "Qe-SwVHv_Hk-",
        "outputId": "f9b89bef-23b4-4cfb-90be-a3645b825955"
      },
      "execution_count": null,
      "outputs": [
        {
          "output_type": "stream",
          "name": "stdout",
          "text": [
            "Mounted at /content/drive\n"
          ]
        }
      ]
    },
    {
      "cell_type": "code",
      "source": [
        "\n",
        "# # Model Hyperparameters\n",
        "cuda = True\n",
        "DEVICE = torch.device(\"cuda\" if cuda else \"cpu\")\n",
        "print(DEVICE)\n",
        "batch_size = 256\n",
        "img_size = (45, 45) # (width, height)\n",
        "\n",
        "\n",
        "\n",
        "lr = 2e-4\n",
        "\n",
        "epochs = 6000\n",
        "\n",
        "print_step = 800\n",
        "\n",
        "#Set random seeds\n",
        "random.seed(42)\n",
        "torch.manual_seed(42)\n",
        "if torch.cuda.is_available():\n",
        "    torch.cuda.manual_seed_all(42)\n"
      ],
      "metadata": {
        "colab": {
          "base_uri": "https://localhost:8080/"
        },
        "id": "BepSAOHgRqpR",
        "outputId": "ee8f872f-cf85-4eb6-ec43-e875a80cab2f"
      },
      "execution_count": null,
      "outputs": [
        {
          "output_type": "stream",
          "name": "stdout",
          "text": [
            "cuda\n"
          ]
        }
      ]
    },
    {
      "cell_type": "code",
      "source": [
        "import pickle\n",
        "with open('/content/drive/My Drive/rgb_loader_20_40_60_80_100', 'rb') as handle:\n",
        "    mlpimages,mlplabels = pickle.load(handle)\n",
        "\n",
        "mlpimages = mlpimages.view(-1,3,45,45)\n",
        "print(mlpimages.shape)\n",
        "print(mlplabels.shape)"
      ],
      "metadata": {
        "colab": {
          "base_uri": "https://localhost:8080/"
        },
        "id": "L3y9HUUfRv71",
        "outputId": "d119b50c-c774-4c78-ad9e-fdf83d3092a6"
      },
      "execution_count": null,
      "outputs": [
        {
          "output_type": "stream",
          "name": "stdout",
          "text": [
            "torch.Size([52800, 3, 45, 45])\n",
            "torch.Size([52800, 1])\n"
          ]
        }
      ]
    },
    {
      "cell_type": "code",
      "source": [
        "import torch\n",
        "import torch.nn as nn\n",
        "\n",
        "from torchvision import datasets, transforms\n",
        "from torch import nn\n",
        "from torch.nn import functional as F\n",
        "from torch.utils.data import TensorDataset, DataLoader, random_split\n",
        "import matplotlib.pyplot as plt\n",
        "import random\n",
        "import numpy as np\n",
        "\n",
        "from pylab import rcParams"
      ],
      "metadata": {
        "id": "TX9yh65KSDHY"
      },
      "execution_count": null,
      "outputs": []
    },
    {
      "cell_type": "code",
      "source": [
        "from torch.utils.data import DataLoader, random_split, TensorDataset\n",
        "\n",
        "# Assuming mlpimages and mlplabels are already defined and are tensors\n",
        "dataset = TensorDataset(mlpimages, mlplabels)\n",
        "\n",
        "# Define the train and validation split ratios\n",
        "train_ratio = 0.9\n",
        "val_ratio = 0.1\n",
        "\n",
        "# Calculate the lengths of the train and validation datasets\n",
        "train_length = int(len(dataset) * train_ratio)\n",
        "val_length = len(dataset) - train_length\n",
        "\n",
        "# Split the dataset into train and validation datasets\n",
        "train_dataset, val_dataset = random_split(dataset, [train_length, val_length])\n",
        "\n",
        "# Assuming batch_size is defined\n",
        "train_loader = DataLoader(train_dataset, batch_size=batch_size, shuffle=True)\n",
        "val_loader = DataLoader(val_dataset, batch_size=batch_size, shuffle=False)\n",
        "loader = DataLoader(dataset, batch_size=batch_size, shuffle=False)\n",
        "\n",
        "# Calculate the percentage of samples\n",
        "total_samples = len(dataset)\n",
        "train_samples = len(train_loader.dataset)\n",
        "val_samples = len(val_loader.dataset)\n",
        "\n",
        "train_percentage = (train_samples / total_samples) * 100\n",
        "val_percentage = (val_samples / total_samples) * 100\n",
        "\n",
        "print(f\"Train dataset length: {train_samples}\")\n",
        "print(f\"Validation dataset length: {val_samples}\")\n",
        "print(f\"Percentage of samples in train_loader: {train_percentage:.2f}%\")\n",
        "print(f\"Percentage of samples in val_loader: {val_percentage:.2f}%\")\n"
      ],
      "metadata": {
        "colab": {
          "base_uri": "https://localhost:8080/"
        },
        "id": "r5iNGutyR9a2",
        "outputId": "c3d1e0af-4f52-417d-801f-fc3b1b08a287"
      },
      "execution_count": null,
      "outputs": [
        {
          "output_type": "stream",
          "name": "stdout",
          "text": [
            "Train dataset length: 47520\n",
            "Validation dataset length: 5280\n",
            "Percentage of samples in train_loader: 90.00%\n",
            "Percentage of samples in val_loader: 10.00%\n"
          ]
        }
      ]
    },
    {
      "cell_type": "code",
      "source": [
        "import torch.nn as nn\n",
        "import torch.nn.functional as F\n",
        "\n",
        "class Encoder(nn.Module):\n",
        "\n",
        "    def __init__(self, input_dim, hidden_dim, output_dim, kernel_size=(3, 3, 3, 1), stride=2):\n",
        "        super(Encoder, self).__init__()\n",
        "\n",
        "        kernel_1, kernel_2, kernel_3, kernel_4 = kernel_size\n",
        "\n",
        "        self.strided_conv_1 = nn.Conv2d(input_dim, hidden_dim, kernel_1, stride, padding=1)\n",
        "        self.strided_conv_2 = nn.Conv2d(hidden_dim, hidden_dim, kernel_2, stride, padding=1)\n",
        "\n",
        "        self.residual_conv_1 = nn.Conv2d(hidden_dim, hidden_dim, kernel_3, padding=1)\n",
        "        self.residual_conv_2 = nn.Conv2d(hidden_dim, output_dim, kernel_4, padding=0)\n",
        "\n",
        "        self.linear_1 = nn.Linear(hidden_dim * 12 * 12, hidden_dim * 12 * 6)\n",
        "        self.linear_2 = nn.Linear(hidden_dim * 12 * 6, hidden_dim * 12)\n",
        "\n",
        "    def forward(self, x):\n",
        "\n",
        "        x = self.strided_conv_1(x)\n",
        "        x = self.strided_conv_2(x)\n",
        "\n",
        "        x = F.relu(x)\n",
        "        y = self.residual_conv_1(x)\n",
        "        y = y + x\n",
        "\n",
        "        x = F.relu(y)\n",
        "        y = self.residual_conv_2(x)\n",
        "        y = y + x\n",
        "\n",
        "        # Flatten the tensor\n",
        "        y1 = y.view(y.size(0), -1)\n",
        "\n",
        "        # Apply the linear layers with ReLU activation in between\n",
        "        y1 = F.relu(self.linear_1(y1))\n",
        "        y1 = self.linear_2(y1)\n",
        "        y = y1.view(y.size(0), y.size(1), -1)\n",
        "        # print(y.shape)\n",
        "\n",
        "        return y\n"
      ],
      "metadata": {
        "id": "j2do0UthSEb_"
      },
      "execution_count": null,
      "outputs": []
    },
    {
      "cell_type": "code",
      "source": [
        "class Receiver_nn(nn.Module):\n",
        "    def __init__(self,hidden_size):\n",
        "        super(Receiver_nn, self).__init__()\n",
        "\n",
        "        self.fc_layers = nn.Sequential(\n",
        "            nn.Linear(in_features=hidden_size, out_features=hidden_size),\n",
        "            nn.ReLU(inplace=True)\n",
        "        )\n",
        "    def forward(self, signal):\n",
        "        out =  self.fc_layers(signal)\n",
        "        return out\n",
        "import torch.nn as nn\n",
        "from torch.nn.functional import gumbel_softmax\n",
        "from torch.distributions import RelaxedOneHotCategorical\n",
        "class Sender(nn.Module):\n",
        "    def __init__(\n",
        "        self,\n",
        "        vocab_size,\n",
        "        embed_dim,\n",
        "        hidden_size,\n",
        "        max_len,\n",
        "        temperature,\n",
        "        training,\n",
        "        straight_through=False,\n",
        "    ):\n",
        "        super(Sender, self).__init__()\n",
        "        self.hidden_size = hidden_size\n",
        "        assert max_len >= 1, \"Cannot have a max_len below 1\"\n",
        "        self.max_len = max_len\n",
        "\n",
        "        self.hidden_to_output = nn.Linear(hidden_size, vocab_size)\n",
        "        self.embedding = nn.Linear(vocab_size, embed_dim)\n",
        "        self.sos_embedding = nn.Parameter(torch.zeros(embed_dim))\n",
        "        self.embed_dim = embed_dim\n",
        "        self.vocab_size = vocab_size\n",
        "        self.training=training\n",
        "\n",
        "        self.temperature = temperature\n",
        "\n",
        "        self.cell = nn.LSTMCell(input_size=embed_dim, hidden_size=self.hidden_size)\n",
        "        # print(\"LSTM\",self.hidden_size)\n",
        "\n",
        "        self.reset_parameters()\n",
        "\n",
        "    def reset_parameters(self):\n",
        "        nn.init.normal_(self.sos_embedding, 0.0, 0.01)\n",
        "\n",
        "    def forward(self, x):\n",
        "        # print(\"self hidden\",self.hidden_size)\n",
        "        x= x.view(x.shape[0],-1)\n",
        "        # print(\"x is\",x.shape)\n",
        "        prev_hidden = x[:]#UNCOMMENT FOR NEW SENDER\n",
        "        # print(self.cell)\n",
        "        # print(\"Sender_forward_x_shape\",prev_hidden.shape)\n",
        "        prev_c = torch.zeros_like(prev_hidden)  # only for LSTM\n",
        "\n",
        "        e_t = torch.stack([self.sos_embedding] * prev_hidden.size(0))\n",
        "        # print(\"Sender_forward_et_shape\",e_t.shape)\n",
        "        # print(\"Sender_forward_prevc_shape\",prev_c.shape)\n",
        "\n",
        "\n",
        "        sequence = []\n",
        "\n",
        "        for step in range(self.max_len):\n",
        "            h_t, prev_c = self.cell(e_t, (prev_hidden, prev_c))\n",
        "            logits = self.hidden_to_output(h_t)\n",
        "            size = logits.size()\n",
        "            # print(\"Training is: \",training)\n",
        "            if not self.training:\n",
        "                # print(\"Turned off!\")\n",
        "                indexes = logits.argmax(dim=-1)\n",
        "                one_hot = torch.zeros_like(logits).view(-1, size[-1])\n",
        "                one_hot.scatter_(1, indexes.view(-1, 1), 1)\n",
        "                one_hot = one_hot.view(*size)\n",
        "                x= one_hot\n",
        "            # print(\"h_t\",torch.any(torch.isnan(h_t)))\n",
        "            # print(\"e_t\",e_t)\n",
        "            # print(\"prev_c\",prev_c)\n",
        "            # print(\"logits\",torch.isnan(logits))\n",
        "            else:\n",
        "                # print(\"Turned on!\")\n",
        "                x = RelaxedOneHotCategorical(logits=logits, temperature=self.temperature).rsample()\n",
        "\n",
        "\n",
        "            prev_hidden = h_t\n",
        "            e_t = self.embedding(x)\n",
        "            sequence.append(x)\n",
        "\n",
        "        sequence = torch.stack(sequence).permute(1, 0, 2)\n",
        "\n",
        "        eos = torch.zeros_like(sequence[:, 0, :]).unsqueeze(1)\n",
        "        eos[:, 0, 0] = 1\n",
        "        sequence = torch.cat([sequence, eos], dim=1)\n",
        "\n",
        "        return sequence\n",
        "class Receiver(nn.Module):\n",
        "\n",
        "    def __init__(self, vocab_size, embed_dim, hidden_size,agent):\n",
        "        super(Receiver, self).__init__()\n",
        "\n",
        "        self.cell = nn.LSTMCell(input_size=embed_dim, hidden_size=hidden_size)\n",
        "\n",
        "        self.embedding = nn.Linear(vocab_size, embed_dim)\n",
        "        self.agent = agent\n",
        "\n",
        "    def forward(self, message=None,input=None, aux_input=None):\n",
        "        outputs = []\n",
        "        # print(\"received_message_shape\",message.shape)\n",
        "        emb = self.embedding(message)\n",
        "\n",
        "        prev_hidden = None\n",
        "        prev_c = None\n",
        "\n",
        "        # to get an access to the hidden states, we have to unroll the cell ourselves\n",
        "        for step in range(message.size(1)):\n",
        "            e_t = emb[:, step, ...]\n",
        "            h_t, prev_c = (\n",
        "                self.cell(e_t, (prev_hidden, prev_c))\n",
        "                if prev_hidden is not None\n",
        "                else self.cell(e_t)\n",
        "            )\n",
        "\n",
        "            outputs.append(self.agent(h_t))\n",
        "            prev_hidden = h_t\n",
        "\n",
        "        outputs = torch.stack(outputs).permute(1, 0, 2)\n",
        "\n",
        "        # print(outputs[:, -1, :].view(-1,outputs.shape[2]).shape,\"lplpl\")\n",
        "        # print(\"outputs shape\",outputs.shape)\n",
        "        # return outputs[:, -1, :].view(-1,outputs.shape[2]) #Original line for only sendinbg last image\n",
        "        return outputs #New line to send all images\n"
      ],
      "metadata": {
        "id": "ECvPbOJbSF3e"
      },
      "execution_count": null,
      "outputs": []
    },
    {
      "cell_type": "code",
      "source": [
        "import torch.nn as nn\n",
        "import torch.nn.functional as F\n",
        "\n",
        "class Decoder(nn.Module):\n",
        "\n",
        "    def __init__(self, input_dim, hidden_dim, output_dim, kernel_sizes=(1, 3, 3, 3), stride=2, ):\n",
        "        #Add new parameter first k images are considered\n",
        "        super(Decoder, self).__init__()\n",
        "\n",
        "        kernel_1, kernel_2, kernel_3, kernel_4 = kernel_sizes\n",
        "\n",
        "        self.linear_1 = nn.Linear(hidden_dim * 12, hidden_dim * 12 * 6)\n",
        "        self.linear_2 = nn.Linear(hidden_dim * 12 * 6, hidden_dim * 12 * 12)\n",
        "\n",
        "        self.residual_conv_1 = nn.Conv2d(input_dim, hidden_dim, kernel_1, padding=0)\n",
        "        self.residual_conv_2 = nn.Conv2d(hidden_dim, hidden_dim, kernel_2, padding=1)\n",
        "\n",
        "        self.strided_t_conv_1 = nn.ConvTranspose2d(hidden_dim, hidden_dim, kernel_3, stride, padding=1, output_padding=0)\n",
        "        self.strided_t_conv_2 = nn.ConvTranspose2d(hidden_dim, output_dim, kernel_4, stride, padding=1)\n",
        "\n",
        "    def forward(self, x):\n",
        "        batch_size, seq_len, feature_size = x.shape[0], x.shape[1], x.shape[2]\n",
        "        outputs = []\n",
        "        # Process each part in the second dimension independently\n",
        "        for i in range(seq_len): #Change seq_len to ica_order\n",
        "            x_i = x[:, i, :]\n",
        "            x_i = x_i.view(batch_size, -1)\n",
        "            x_i = F.relu(self.linear_1(x_i))\n",
        "            x_i = self.linear_2(x_i)\n",
        "            x_i = x_i.view(x_i.size(0), x_i.size(1) // 144, 12, 12)\n",
        "\n",
        "            y_i = self.residual_conv_1(x_i)\n",
        "            y_i = y_i + x_i\n",
        "            x_i = F.relu(y_i)\n",
        "\n",
        "            y_i = self.residual_conv_2(x_i)\n",
        "            y_i = y_i + x_i\n",
        "            y_i = F.relu(y_i)\n",
        "\n",
        "            y_i = self.strided_t_conv_1(y_i)\n",
        "            y_i = self.strided_t_conv_2(y_i)\n",
        "\n",
        "            outputs.append(y_i.unsqueeze(1))\n",
        "\n",
        "        # Stack the processed parts in the second dimension\n",
        "        output = torch.cat(outputs, dim=1)\n",
        "\n",
        "        return output\n"
      ],
      "metadata": {
        "id": "TQ2lMiI0SH2Z"
      },
      "execution_count": null,
      "outputs": []
    },
    {
      "cell_type": "code",
      "source": [
        "class Model(nn.Module):\n",
        "    def __init__(self, Encoder, Decoder, Sender, Receiver):\n",
        "        super(Model, self).__init__()\n",
        "        self.encoder = Encoder\n",
        "        self.decoder = Decoder\n",
        "        self.Sender = Sender\n",
        "        self.Receiver = Receiver\n",
        "\n",
        "\n",
        "    def forward(self, x):\n",
        "        z = self.encoder(x)\n",
        "\n",
        "        message = None\n",
        "        message = self.Sender(z) #z is hidden state for sender lstm\n",
        "\n",
        "        receiveroutput = self.Receiver(message=message)\n",
        "        x_hat            = self.decoder(receiveroutput)\n",
        "        return x_hat, message, z,receiveroutput\n",
        "\n"
      ],
      "metadata": {
        "id": "bvuxaivfSJHz"
      },
      "execution_count": null,
      "outputs": []
    },
    {
      "cell_type": "code",
      "source": [
        "#Define Hyperparameters\n",
        "input_dim = 3 #Encoder\n",
        "hidden_dim = 50\n",
        "output_dim = 3\n",
        "sentence_length=10\n",
        "vocab_size = 100\n",
        "embed_dim =50\n",
        "\n",
        "\n",
        "encoder = Encoder(input_dim=input_dim, hidden_dim=hidden_dim, output_dim=hidden_dim)\n",
        "decoder = Decoder(input_dim=hidden_dim, hidden_dim=hidden_dim, output_dim=output_dim)\n",
        "sender = Sender(vocab_size, embed_dim, hidden_dim *12 , sentence_length, 1.0, True)\n",
        "receiver_nn = Receiver_nn(hidden_dim*12)\n",
        "receiver = Receiver(vocab_size,embed_dim,hidden_dim*12,receiver_nn)\n",
        "\n",
        "\n",
        "model = Model(Encoder=encoder, Decoder=decoder, Sender = sender, Receiver = receiver).to(DEVICE)"
      ],
      "metadata": {
        "id": "bBIl0WB6SKrd"
      },
      "execution_count": null,
      "outputs": []
    },
    {
      "cell_type": "code",
      "source": [
        "def asymmetric_mse_loss(output, target, smaller_weight=1.5, larger_weight=0.5):\n",
        "    \"\"\"\n",
        "    Asymmetric MSE loss which penalizes more heavily when the output pixel value\n",
        "    is smaller than the target pixel value.\n",
        "    \"\"\"\n",
        "    # Find where output is less than target\n",
        "    smaller = (output < target).float()\n",
        "    # Find where output is greater than or equal to target\n",
        "    larger_or_equal = (output >= target).float()\n",
        "\n",
        "    # Calculate the asymmetric weighted loss\n",
        "    loss = (smaller_weight * smaller * (target - output) ** 2 +\n",
        "            larger_weight * larger_or_equal * (output - target) ** 2)\n",
        "    return loss.mean()\n"
      ],
      "metadata": {
        "id": "kujRj0cnDQbU"
      },
      "execution_count": null,
      "outputs": []
    },
    {
      "cell_type": "code",
      "source": [
        "from torch.optim import Adam\n",
        "\n",
        "# # Initialize the optimizer\n",
        "mse_loss = nn.MSELoss()\n",
        "# optimizer = Adam(params_to_optimize, lr=lr)\n",
        "optimizer = Adam(list(model.parameters()), lr=lr)"
      ],
      "metadata": {
        "id": "e1Yn3nbBSMMh"
      },
      "execution_count": null,
      "outputs": []
    },
    {
      "cell_type": "code",
      "source": [
        "model = model.to(DEVICE)"
      ],
      "metadata": {
        "id": "3leLZwcY10sJ"
      },
      "execution_count": null,
      "outputs": []
    },
    {
      "cell_type": "code",
      "source": [
        "#Run this for progressive\n",
        "from PIL import Image\n",
        "print(\"Start training VQ-VAE...\")\n",
        "model.train()\n",
        "\n",
        "# Lists to keep track of validation and training losses\n",
        "losses = []\n",
        "val_losses = []\n",
        "\n",
        "# weights = [0.0001, 0.00002, 0.000004, 0.0000008, 0.00000016]\n",
        "\n",
        "# Your main training loop:\n",
        "for epoch in range(epochs):\n",
        "    overall_loss = 0\n",
        "    for batch_idx, (x, _) in enumerate(train_loader):\n",
        "        ica_orders = torch.div(_, 100, rounding_mode='trunc')\n",
        "        ica_orders-=1\n",
        "\n",
        "        x = x.to(DEVICE)\n",
        "        optimizer.zero_grad()\n",
        "        x_hat1, message, z, receiver_op = model(x)\n",
        "        # Expand dimensions for advanced indexing\n",
        "        ica_orders_expanded = ica_orders.unsqueeze(-1).unsqueeze(-1).unsqueeze(-1)\n",
        "        # Gather along the second dimension using ica_orders\n",
        "        x_hat = torch.gather(x_hat1, 1, ica_orders_expanded.expand(-1, -1, 3, 45, 45).to(DEVICE)).squeeze(1)\n",
        "\n",
        "        recon_loss = mse_loss(x_hat, x)\n",
        "\n",
        "        loss =  recon_loss\n",
        "\n",
        "        loss.backward()\n",
        "\n",
        "        optimizer.step()\n",
        "\n",
        "        if batch_idx % print_step == 0:\n",
        "            losses.append(recon_loss.item())\n",
        "            print(\"Training epoch:\", epoch + 1)\n",
        "            print(\"epoch:\", epoch + 1, \"  step:\", batch_idx + 1, \" recon_loss:\", recon_loss.item())\n",
        "            # print(\"step: {}  recon_loss: {:.8f}  diversity penalty: {}  total diversity: {:.8f}  total loss: {:.8f}\".format(\n",
        "            #     batch_idx + 1,\n",
        "            #     recon_loss.item(),\n",
        "            #     [round(val, 8) for val in diversity_penalty],  # This will round each value in the list to 8 decimal places\n",
        "            #     sum(diversity_penalty),\n",
        "            #     loss.item()\n",
        "            # ))\n",
        "\n",
        "    # Validation part\n",
        "    model.eval()  # switch model to the evaluation mode\n",
        "    with torch.no_grad():  # deactivate autograd engine to reduce memory usage and speed up computations\n",
        "        for batch_idx, (x, _) in enumerate(val_loader):\n",
        "            ica_orders = torch.div(_, 100, rounding_mode='trunc')\n",
        "            ica_orders-=1\n",
        "            x = x.to(DEVICE)\n",
        "            x_hat1, message, z, receiver_op = model(x)\n",
        "            # Expand dimensions for advanced indexing\n",
        "            ica_orders_expanded = ica_orders.unsqueeze(-1).unsqueeze(-1).unsqueeze(-1)\n",
        "            # Gather along the second dimension using ica_orders\n",
        "            x_hat = torch.gather(x_hat1, 1, ica_orders_expanded.expand(-1, -1, 3, 45, 45).to(DEVICE)).squeeze(1)\n",
        "\n",
        "            recon_loss = mse_loss(x_hat, x)\n",
        "\n",
        "\n",
        "\n",
        "            if batch_idx % print_step == 0:\n",
        "                val_losses.append(recon_loss.item())\n",
        "                print(\"epoch:\", epoch + 1, \"  step:\", batch_idx + 1, \" recon_loss:\", recon_loss.item())\n",
        "                # print(\"step: {}  recon_loss: {:.8f}  diversity penalty: {}  total diversity: {:.8f}  total loss: {:.8f}\".format(\n",
        "                #     batch_idx + 1,\n",
        "                #     recon_loss.item(),\n",
        "                #     [round(val, 8) for val in diversity_penalty],  # This will round each value in the list to 8 decimal places\n",
        "                #     sum(diversity_penalty),\n",
        "                #     loss.item()\n",
        "                # ))\n",
        "\n",
        "\n",
        "\n",
        "    model.train()  # switch model back to the train mode\n",
        "\n",
        "print(\"Finish!!\")\n"
      ],
      "metadata": {
        "colab": {
          "base_uri": "https://localhost:8080/",
          "height": 460
        },
        "id": "gVdTQ-WqD4RF",
        "outputId": "d4b9d223-ac44-4ea3-f4e0-343f3d7cd1b7"
      },
      "execution_count": null,
      "outputs": [
        {
          "output_type": "stream",
          "name": "stdout",
          "text": [
            "Start training VQ-VAE...\n",
            "Training epoch: 1\n",
            "epoch: 1   step: 1  recon_loss: 0.2070959508419037\n",
            "epoch: 1   step: 1  recon_loss: 0.023292308673262596\n",
            "Training epoch: 2\n",
            "epoch: 2   step: 1  recon_loss: 0.00762425409629941\n"
          ]
        },
        {
          "output_type": "error",
          "ename": "KeyboardInterrupt",
          "evalue": "",
          "traceback": [
            "\u001b[0;31m---------------------------------------------------------------------------\u001b[0m",
            "\u001b[0;31mKeyboardInterrupt\u001b[0m                         Traceback (most recent call last)",
            "\u001b[0;32m<ipython-input-15-ebb48a9df6ad>\u001b[0m in \u001b[0;36m<cell line: 13>\u001b[0;34m()\u001b[0m\n\u001b[1;32m     29\u001b[0m         \u001b[0mloss\u001b[0m \u001b[0;34m=\u001b[0m  \u001b[0mrecon_loss\u001b[0m\u001b[0;34m\u001b[0m\u001b[0;34m\u001b[0m\u001b[0m\n\u001b[1;32m     30\u001b[0m \u001b[0;34m\u001b[0m\u001b[0m\n\u001b[0;32m---> 31\u001b[0;31m         \u001b[0mloss\u001b[0m\u001b[0;34m.\u001b[0m\u001b[0mbackward\u001b[0m\u001b[0;34m(\u001b[0m\u001b[0;34m)\u001b[0m\u001b[0;34m\u001b[0m\u001b[0;34m\u001b[0m\u001b[0m\n\u001b[0m\u001b[1;32m     32\u001b[0m \u001b[0;34m\u001b[0m\u001b[0m\n\u001b[1;32m     33\u001b[0m         \u001b[0moptimizer\u001b[0m\u001b[0;34m.\u001b[0m\u001b[0mstep\u001b[0m\u001b[0;34m(\u001b[0m\u001b[0;34m)\u001b[0m\u001b[0;34m\u001b[0m\u001b[0;34m\u001b[0m\u001b[0m\n",
            "\u001b[0;32m/usr/local/lib/python3.10/dist-packages/torch/_tensor.py\u001b[0m in \u001b[0;36mbackward\u001b[0;34m(self, gradient, retain_graph, create_graph, inputs)\u001b[0m\n\u001b[1;32m    520\u001b[0m                 \u001b[0minputs\u001b[0m\u001b[0;34m=\u001b[0m\u001b[0minputs\u001b[0m\u001b[0;34m,\u001b[0m\u001b[0;34m\u001b[0m\u001b[0;34m\u001b[0m\u001b[0m\n\u001b[1;32m    521\u001b[0m             )\n\u001b[0;32m--> 522\u001b[0;31m         torch.autograd.backward(\n\u001b[0m\u001b[1;32m    523\u001b[0m             \u001b[0mself\u001b[0m\u001b[0;34m,\u001b[0m \u001b[0mgradient\u001b[0m\u001b[0;34m,\u001b[0m \u001b[0mretain_graph\u001b[0m\u001b[0;34m,\u001b[0m \u001b[0mcreate_graph\u001b[0m\u001b[0;34m,\u001b[0m \u001b[0minputs\u001b[0m\u001b[0;34m=\u001b[0m\u001b[0minputs\u001b[0m\u001b[0;34m\u001b[0m\u001b[0;34m\u001b[0m\u001b[0m\n\u001b[1;32m    524\u001b[0m         )\n",
            "\u001b[0;32m/usr/local/lib/python3.10/dist-packages/torch/autograd/__init__.py\u001b[0m in \u001b[0;36mbackward\u001b[0;34m(tensors, grad_tensors, retain_graph, create_graph, grad_variables, inputs)\u001b[0m\n\u001b[1;32m    264\u001b[0m     \u001b[0;31m# some Python versions print out the first line of a multi-line function\u001b[0m\u001b[0;34m\u001b[0m\u001b[0;34m\u001b[0m\u001b[0m\n\u001b[1;32m    265\u001b[0m     \u001b[0;31m# calls in the traceback and some print out the last line\u001b[0m\u001b[0;34m\u001b[0m\u001b[0;34m\u001b[0m\u001b[0m\n\u001b[0;32m--> 266\u001b[0;31m     Variable._execution_engine.run_backward(  # Calls into the C++ engine to run the backward pass\n\u001b[0m\u001b[1;32m    267\u001b[0m         \u001b[0mtensors\u001b[0m\u001b[0;34m,\u001b[0m\u001b[0;34m\u001b[0m\u001b[0;34m\u001b[0m\u001b[0m\n\u001b[1;32m    268\u001b[0m         \u001b[0mgrad_tensors_\u001b[0m\u001b[0;34m,\u001b[0m\u001b[0;34m\u001b[0m\u001b[0;34m\u001b[0m\u001b[0m\n",
            "\u001b[0;31mKeyboardInterrupt\u001b[0m: "
          ]
        }
      ]
    },
    {
      "cell_type": "code",
      "source": [
        "#Run this for strict progressive (not vectorized) with diversity penalty\n",
        "from PIL import Image\n",
        "print(\"Start training VQ-VAE...\")\n",
        "model.train()\n",
        "\n",
        "# Lists to keep track of validation and training losses\n",
        "losses = []\n",
        "val_losses = []\n",
        "\n",
        "# Your main training loop:\n",
        "for epoch in range(epochs):\n",
        "    overall_loss = 0\n",
        "    for batch_idx, (x, _) in enumerate(train_loader):\n",
        "        ica_orders = torch.div(_, 200, rounding_mode='trunc')\n",
        "        x = x.to(DEVICE)\n",
        "        optimizer.zero_grad()\n",
        "        x_hat, message, z, receiver_op = model(x)\n",
        "\n",
        "\n",
        "        losses_batch = []\n",
        "        for i in range(x.size(0)):\n",
        "            # Expand x[i] according to ica_orders[i]\n",
        "            expanded_x = x[i].unsqueeze(0).expand(ica_orders[i].item(), -1, -1, -1)\n",
        "            # Truncate x_hat[i] according to ica_orders[i]\n",
        "            truncated_x_hat = x_hat[i, :ica_orders[i].item()]\n",
        "            # Compute the loss and store\n",
        "            individual_loss = mse_loss(truncated_x_hat, expanded_x)\n",
        "            losses_batch.append(individual_loss)\n",
        "\n",
        "        # Average out the losses\n",
        "        recon_loss = torch.stack(losses_batch).mean()\n",
        "        loss = recon_loss\n",
        "\n",
        "\n",
        "        loss.backward()\n",
        "        optimizer.step()\n",
        "\n",
        "        if batch_idx % print_step == 0:\n",
        "            losses.append(recon_loss.item())\n",
        "            print(\"Training epoch:\", epoch + 1)\n",
        "            print(\"epoch:\", epoch + 1, \"  step:\", batch_idx + 1, \" recon_loss:\", recon_loss.item())\n",
        "            # print(\"step: {}  recon_loss: {:.8f}  diversity penalty: {}  total diversity: {:.8f}  total loss: {:.8f}\".format(\n",
        "            #     batch_idx + 1,\n",
        "            #     recon_loss.item(),\n",
        "            #     [round(val, 8) for val in diversity_penalty],  # This will round each value in the list to 8 decimal places\n",
        "            #     sum(diversity_penalty),\n",
        "            #     loss.item()\n",
        "            # ))\n",
        "\n",
        "    # Validation part\n",
        "    model.eval()  # switch model to the evaluation mode\n",
        "    with torch.no_grad():  # deactivate autograd engine to reduce memory usage and speed up computations\n",
        "        val_loss = 0\n",
        "        for batch_idx, (x, _) in enumerate(val_loader):\n",
        "            ica_orders = torch.div(_, 200, rounding_mode='trunc')\n",
        "            x = x.to(DEVICE)\n",
        "            optimizer.zero_grad()\n",
        "            x_hat, message, z, receiver_op = model(x)\n",
        "\n",
        "            # diversity_penalty = compute_diversity_penalty( torch.argmax(message, dim=2), weights)\n",
        "\n",
        "            losses_batch = []\n",
        "\n",
        "            for i in range(x.size(0)):\n",
        "                # Expand x[i] according to ica_orders[i]\n",
        "                expanded_x = x[i].unsqueeze(0).expand(ica_orders[i].item(), -1, -1, -1)\n",
        "\n",
        "                # Truncate x_hat[i] according to ica_orders[i]\n",
        "                truncated_x_hat = x_hat[i, :ica_orders[i].item()]\n",
        "\n",
        "                # Compute the loss and store\n",
        "                individual_loss = mse_loss(truncated_x_hat, expanded_x)\n",
        "                losses_batch.append(individual_loss)\n",
        "\n",
        "            # Average out the losses\n",
        "            recon_loss = torch.stack(losses_batch).mean()\n",
        "\n",
        "            # Add diversity penalty to the loss\n",
        "            # loss = recon_loss + sum(diversity_penalty)\n",
        "            loss = recon_loss\n",
        "\n",
        "\n",
        "\n",
        "            if batch_idx % print_step == 0:\n",
        "                val_losses.append(recon_loss.item())\n",
        "                print(\"epoch:\", epoch + 1, \"  step:\", batch_idx + 1, \" recon_loss:\", recon_loss.item())\n",
        "                # print(\"step: {}  recon_loss: {:.8f}  diversity penalty: {}  total diversity: {:.8f}  total loss: {:.8f}\".format(\n",
        "                #     batch_idx + 1,\n",
        "                #     recon_loss.item(),\n",
        "                #     [round(val, 8) for val in diversity_penalty],  # This will round each value in the list to 8 decimal places\n",
        "                #     sum(diversity_penalty),\n",
        "                #     loss.item()\n",
        "                # ))\n",
        "\n",
        "\n",
        "\n",
        "    model.train()  # switch model back to the train mode\n",
        "\n",
        "print(\"Finish!!\")\n"
      ],
      "metadata": {
        "id": "RAJIGQ2xStsH",
        "colab": {
          "base_uri": "https://localhost:8080/",
          "height": 1000
        },
        "outputId": "73b6eefb-8234-4b09-849f-53c4c1b9530c"
      },
      "execution_count": null,
      "outputs": [
        {
          "output_type": "stream",
          "name": "stdout",
          "text": [
            "Start training VQ-VAE...\n",
            "z shape torch.Size([256, 50, 12])\n"
          ]
        },
        {
          "output_type": "error",
          "ename": "RuntimeError",
          "evalue": "ignored",
          "traceback": [
            "\u001b[0;31m---------------------------------------------------------------------------\u001b[0m",
            "\u001b[0;31mRuntimeError\u001b[0m                              Traceback (most recent call last)",
            "\u001b[0;32m<ipython-input-34-47ec926e60a2>\u001b[0m in \u001b[0;36m<cell line: 11>\u001b[0;34m()\u001b[0m\n\u001b[1;32m     15\u001b[0m         \u001b[0mx\u001b[0m \u001b[0;34m=\u001b[0m \u001b[0mx\u001b[0m\u001b[0;34m.\u001b[0m\u001b[0mto\u001b[0m\u001b[0;34m(\u001b[0m\u001b[0mDEVICE\u001b[0m\u001b[0;34m)\u001b[0m\u001b[0;34m\u001b[0m\u001b[0;34m\u001b[0m\u001b[0m\n\u001b[1;32m     16\u001b[0m         \u001b[0moptimizer\u001b[0m\u001b[0;34m.\u001b[0m\u001b[0mzero_grad\u001b[0m\u001b[0;34m(\u001b[0m\u001b[0;34m)\u001b[0m\u001b[0;34m\u001b[0m\u001b[0;34m\u001b[0m\u001b[0m\n\u001b[0;32m---> 17\u001b[0;31m         \u001b[0mx_hat\u001b[0m\u001b[0;34m,\u001b[0m \u001b[0mmessage\u001b[0m\u001b[0;34m,\u001b[0m \u001b[0mz\u001b[0m\u001b[0;34m,\u001b[0m \u001b[0mreceiver_op\u001b[0m \u001b[0;34m=\u001b[0m \u001b[0mmodel\u001b[0m\u001b[0;34m(\u001b[0m\u001b[0mx\u001b[0m\u001b[0;34m)\u001b[0m\u001b[0;34m\u001b[0m\u001b[0;34m\u001b[0m\u001b[0m\n\u001b[0m\u001b[1;32m     18\u001b[0m \u001b[0;34m\u001b[0m\u001b[0m\n\u001b[1;32m     19\u001b[0m \u001b[0;34m\u001b[0m\u001b[0m\n",
            "\u001b[0;32m/usr/local/lib/python3.10/dist-packages/torch/nn/modules/module.py\u001b[0m in \u001b[0;36m_wrapped_call_impl\u001b[0;34m(self, *args, **kwargs)\u001b[0m\n\u001b[1;32m   1516\u001b[0m             \u001b[0;32mreturn\u001b[0m \u001b[0mself\u001b[0m\u001b[0;34m.\u001b[0m\u001b[0m_compiled_call_impl\u001b[0m\u001b[0;34m(\u001b[0m\u001b[0;34m*\u001b[0m\u001b[0margs\u001b[0m\u001b[0;34m,\u001b[0m \u001b[0;34m**\u001b[0m\u001b[0mkwargs\u001b[0m\u001b[0;34m)\u001b[0m  \u001b[0;31m# type: ignore[misc]\u001b[0m\u001b[0;34m\u001b[0m\u001b[0;34m\u001b[0m\u001b[0m\n\u001b[1;32m   1517\u001b[0m         \u001b[0;32melse\u001b[0m\u001b[0;34m:\u001b[0m\u001b[0;34m\u001b[0m\u001b[0;34m\u001b[0m\u001b[0m\n\u001b[0;32m-> 1518\u001b[0;31m             \u001b[0;32mreturn\u001b[0m \u001b[0mself\u001b[0m\u001b[0;34m.\u001b[0m\u001b[0m_call_impl\u001b[0m\u001b[0;34m(\u001b[0m\u001b[0;34m*\u001b[0m\u001b[0margs\u001b[0m\u001b[0;34m,\u001b[0m \u001b[0;34m**\u001b[0m\u001b[0mkwargs\u001b[0m\u001b[0;34m)\u001b[0m\u001b[0;34m\u001b[0m\u001b[0;34m\u001b[0m\u001b[0m\n\u001b[0m\u001b[1;32m   1519\u001b[0m \u001b[0;34m\u001b[0m\u001b[0m\n\u001b[1;32m   1520\u001b[0m     \u001b[0;32mdef\u001b[0m \u001b[0m_call_impl\u001b[0m\u001b[0;34m(\u001b[0m\u001b[0mself\u001b[0m\u001b[0;34m,\u001b[0m \u001b[0;34m*\u001b[0m\u001b[0margs\u001b[0m\u001b[0;34m,\u001b[0m \u001b[0;34m**\u001b[0m\u001b[0mkwargs\u001b[0m\u001b[0;34m)\u001b[0m\u001b[0;34m:\u001b[0m\u001b[0;34m\u001b[0m\u001b[0;34m\u001b[0m\u001b[0m\n",
            "\u001b[0;32m/usr/local/lib/python3.10/dist-packages/torch/nn/modules/module.py\u001b[0m in \u001b[0;36m_call_impl\u001b[0;34m(self, *args, **kwargs)\u001b[0m\n\u001b[1;32m   1525\u001b[0m                 \u001b[0;32mor\u001b[0m \u001b[0m_global_backward_pre_hooks\u001b[0m \u001b[0;32mor\u001b[0m \u001b[0m_global_backward_hooks\u001b[0m\u001b[0;34m\u001b[0m\u001b[0;34m\u001b[0m\u001b[0m\n\u001b[1;32m   1526\u001b[0m                 or _global_forward_hooks or _global_forward_pre_hooks):\n\u001b[0;32m-> 1527\u001b[0;31m             \u001b[0;32mreturn\u001b[0m \u001b[0mforward_call\u001b[0m\u001b[0;34m(\u001b[0m\u001b[0;34m*\u001b[0m\u001b[0margs\u001b[0m\u001b[0;34m,\u001b[0m \u001b[0;34m**\u001b[0m\u001b[0mkwargs\u001b[0m\u001b[0;34m)\u001b[0m\u001b[0;34m\u001b[0m\u001b[0;34m\u001b[0m\u001b[0m\n\u001b[0m\u001b[1;32m   1528\u001b[0m \u001b[0;34m\u001b[0m\u001b[0m\n\u001b[1;32m   1529\u001b[0m         \u001b[0;32mtry\u001b[0m\u001b[0;34m:\u001b[0m\u001b[0;34m\u001b[0m\u001b[0;34m\u001b[0m\u001b[0m\n",
            "\u001b[0;32m<ipython-input-31-0c5a4e349045>\u001b[0m in \u001b[0;36mforward\u001b[0;34m(self, x)\u001b[0m\n\u001b[1;32m     16\u001b[0m \u001b[0;34m\u001b[0m\u001b[0m\n\u001b[1;32m     17\u001b[0m         \u001b[0;31m# Sending\u001b[0m\u001b[0;34m\u001b[0m\u001b[0;34m\u001b[0m\u001b[0m\n\u001b[0;32m---> 18\u001b[0;31m         \u001b[0mmessage\u001b[0m \u001b[0;34m=\u001b[0m \u001b[0mself\u001b[0m\u001b[0;34m.\u001b[0m\u001b[0mSender\u001b[0m\u001b[0;34m(\u001b[0m\u001b[0mz\u001b[0m\u001b[0;34m)\u001b[0m\u001b[0;34m\u001b[0m\u001b[0;34m\u001b[0m\u001b[0m\n\u001b[0m\u001b[1;32m     19\u001b[0m         \u001b[0mprint\u001b[0m\u001b[0;34m(\u001b[0m\u001b[0;34m\"message shape\"\u001b[0m\u001b[0;34m,\u001b[0m \u001b[0mmessage\u001b[0m\u001b[0;34m.\u001b[0m\u001b[0mshape\u001b[0m\u001b[0;34m)\u001b[0m\u001b[0;34m\u001b[0m\u001b[0;34m\u001b[0m\u001b[0m\n\u001b[1;32m     20\u001b[0m \u001b[0;34m\u001b[0m\u001b[0m\n",
            "\u001b[0;32m/usr/local/lib/python3.10/dist-packages/torch/nn/modules/module.py\u001b[0m in \u001b[0;36m_wrapped_call_impl\u001b[0;34m(self, *args, **kwargs)\u001b[0m\n\u001b[1;32m   1516\u001b[0m             \u001b[0;32mreturn\u001b[0m \u001b[0mself\u001b[0m\u001b[0;34m.\u001b[0m\u001b[0m_compiled_call_impl\u001b[0m\u001b[0;34m(\u001b[0m\u001b[0;34m*\u001b[0m\u001b[0margs\u001b[0m\u001b[0;34m,\u001b[0m \u001b[0;34m**\u001b[0m\u001b[0mkwargs\u001b[0m\u001b[0;34m)\u001b[0m  \u001b[0;31m# type: ignore[misc]\u001b[0m\u001b[0;34m\u001b[0m\u001b[0;34m\u001b[0m\u001b[0m\n\u001b[1;32m   1517\u001b[0m         \u001b[0;32melse\u001b[0m\u001b[0;34m:\u001b[0m\u001b[0;34m\u001b[0m\u001b[0;34m\u001b[0m\u001b[0m\n\u001b[0;32m-> 1518\u001b[0;31m             \u001b[0;32mreturn\u001b[0m \u001b[0mself\u001b[0m\u001b[0;34m.\u001b[0m\u001b[0m_call_impl\u001b[0m\u001b[0;34m(\u001b[0m\u001b[0;34m*\u001b[0m\u001b[0margs\u001b[0m\u001b[0;34m,\u001b[0m \u001b[0;34m**\u001b[0m\u001b[0mkwargs\u001b[0m\u001b[0;34m)\u001b[0m\u001b[0;34m\u001b[0m\u001b[0;34m\u001b[0m\u001b[0m\n\u001b[0m\u001b[1;32m   1519\u001b[0m \u001b[0;34m\u001b[0m\u001b[0m\n\u001b[1;32m   1520\u001b[0m     \u001b[0;32mdef\u001b[0m \u001b[0m_call_impl\u001b[0m\u001b[0;34m(\u001b[0m\u001b[0mself\u001b[0m\u001b[0;34m,\u001b[0m \u001b[0;34m*\u001b[0m\u001b[0margs\u001b[0m\u001b[0;34m,\u001b[0m \u001b[0;34m**\u001b[0m\u001b[0mkwargs\u001b[0m\u001b[0;34m)\u001b[0m\u001b[0;34m:\u001b[0m\u001b[0;34m\u001b[0m\u001b[0;34m\u001b[0m\u001b[0m\n",
            "\u001b[0;32m/usr/local/lib/python3.10/dist-packages/torch/nn/modules/module.py\u001b[0m in \u001b[0;36m_call_impl\u001b[0;34m(self, *args, **kwargs)\u001b[0m\n\u001b[1;32m   1525\u001b[0m                 \u001b[0;32mor\u001b[0m \u001b[0m_global_backward_pre_hooks\u001b[0m \u001b[0;32mor\u001b[0m \u001b[0m_global_backward_hooks\u001b[0m\u001b[0;34m\u001b[0m\u001b[0;34m\u001b[0m\u001b[0m\n\u001b[1;32m   1526\u001b[0m                 or _global_forward_hooks or _global_forward_pre_hooks):\n\u001b[0;32m-> 1527\u001b[0;31m             \u001b[0;32mreturn\u001b[0m \u001b[0mforward_call\u001b[0m\u001b[0;34m(\u001b[0m\u001b[0;34m*\u001b[0m\u001b[0margs\u001b[0m\u001b[0;34m,\u001b[0m \u001b[0;34m**\u001b[0m\u001b[0mkwargs\u001b[0m\u001b[0;34m)\u001b[0m\u001b[0;34m\u001b[0m\u001b[0;34m\u001b[0m\u001b[0m\n\u001b[0m\u001b[1;32m   1528\u001b[0m \u001b[0;34m\u001b[0m\u001b[0m\n\u001b[1;32m   1529\u001b[0m         \u001b[0;32mtry\u001b[0m\u001b[0;34m:\u001b[0m\u001b[0;34m\u001b[0m\u001b[0;34m\u001b[0m\u001b[0m\n",
            "\u001b[0;32m<ipython-input-30-69101dbe37ad>\u001b[0m in \u001b[0;36mforward\u001b[0;34m(self, x)\u001b[0m\n\u001b[1;32m     54\u001b[0m \u001b[0;34m\u001b[0m\u001b[0m\n\u001b[1;32m     55\u001b[0m         \u001b[0;31m# Generate symbols\u001b[0m\u001b[0;34m\u001b[0m\u001b[0;34m\u001b[0m\u001b[0m\n\u001b[0;32m---> 56\u001b[0;31m         \u001b[0mlogits\u001b[0m \u001b[0;34m=\u001b[0m \u001b[0mself\u001b[0m\u001b[0;34m.\u001b[0m\u001b[0moutput_proj\u001b[0m\u001b[0;34m(\u001b[0m\u001b[0mx\u001b[0m\u001b[0;34m)\u001b[0m\u001b[0;34m\u001b[0m\u001b[0;34m\u001b[0m\u001b[0m\n\u001b[0m\u001b[1;32m     57\u001b[0m         \u001b[0;32mif\u001b[0m \u001b[0mself\u001b[0m\u001b[0;34m.\u001b[0m\u001b[0mtraining\u001b[0m\u001b[0;34m:\u001b[0m\u001b[0;34m\u001b[0m\u001b[0;34m\u001b[0m\u001b[0m\n\u001b[1;32m     58\u001b[0m             \u001b[0;31m# Use Gumbel Softmax for training\u001b[0m\u001b[0;34m\u001b[0m\u001b[0;34m\u001b[0m\u001b[0m\n",
            "\u001b[0;32m/usr/local/lib/python3.10/dist-packages/torch/nn/modules/module.py\u001b[0m in \u001b[0;36m_wrapped_call_impl\u001b[0;34m(self, *args, **kwargs)\u001b[0m\n\u001b[1;32m   1516\u001b[0m             \u001b[0;32mreturn\u001b[0m \u001b[0mself\u001b[0m\u001b[0;34m.\u001b[0m\u001b[0m_compiled_call_impl\u001b[0m\u001b[0;34m(\u001b[0m\u001b[0;34m*\u001b[0m\u001b[0margs\u001b[0m\u001b[0;34m,\u001b[0m \u001b[0;34m**\u001b[0m\u001b[0mkwargs\u001b[0m\u001b[0;34m)\u001b[0m  \u001b[0;31m# type: ignore[misc]\u001b[0m\u001b[0;34m\u001b[0m\u001b[0;34m\u001b[0m\u001b[0m\n\u001b[1;32m   1517\u001b[0m         \u001b[0;32melse\u001b[0m\u001b[0;34m:\u001b[0m\u001b[0;34m\u001b[0m\u001b[0;34m\u001b[0m\u001b[0m\n\u001b[0;32m-> 1518\u001b[0;31m             \u001b[0;32mreturn\u001b[0m \u001b[0mself\u001b[0m\u001b[0;34m.\u001b[0m\u001b[0m_call_impl\u001b[0m\u001b[0;34m(\u001b[0m\u001b[0;34m*\u001b[0m\u001b[0margs\u001b[0m\u001b[0;34m,\u001b[0m \u001b[0;34m**\u001b[0m\u001b[0mkwargs\u001b[0m\u001b[0;34m)\u001b[0m\u001b[0;34m\u001b[0m\u001b[0;34m\u001b[0m\u001b[0m\n\u001b[0m\u001b[1;32m   1519\u001b[0m \u001b[0;34m\u001b[0m\u001b[0m\n\u001b[1;32m   1520\u001b[0m     \u001b[0;32mdef\u001b[0m \u001b[0m_call_impl\u001b[0m\u001b[0;34m(\u001b[0m\u001b[0mself\u001b[0m\u001b[0;34m,\u001b[0m \u001b[0;34m*\u001b[0m\u001b[0margs\u001b[0m\u001b[0;34m,\u001b[0m \u001b[0;34m**\u001b[0m\u001b[0mkwargs\u001b[0m\u001b[0;34m)\u001b[0m\u001b[0;34m:\u001b[0m\u001b[0;34m\u001b[0m\u001b[0;34m\u001b[0m\u001b[0m\n",
            "\u001b[0;32m/usr/local/lib/python3.10/dist-packages/torch/nn/modules/module.py\u001b[0m in \u001b[0;36m_call_impl\u001b[0;34m(self, *args, **kwargs)\u001b[0m\n\u001b[1;32m   1525\u001b[0m                 \u001b[0;32mor\u001b[0m \u001b[0m_global_backward_pre_hooks\u001b[0m \u001b[0;32mor\u001b[0m \u001b[0m_global_backward_hooks\u001b[0m\u001b[0;34m\u001b[0m\u001b[0;34m\u001b[0m\u001b[0m\n\u001b[1;32m   1526\u001b[0m                 or _global_forward_hooks or _global_forward_pre_hooks):\n\u001b[0;32m-> 1527\u001b[0;31m             \u001b[0;32mreturn\u001b[0m \u001b[0mforward_call\u001b[0m\u001b[0;34m(\u001b[0m\u001b[0;34m*\u001b[0m\u001b[0margs\u001b[0m\u001b[0;34m,\u001b[0m \u001b[0;34m**\u001b[0m\u001b[0mkwargs\u001b[0m\u001b[0;34m)\u001b[0m\u001b[0;34m\u001b[0m\u001b[0;34m\u001b[0m\u001b[0m\n\u001b[0m\u001b[1;32m   1528\u001b[0m \u001b[0;34m\u001b[0m\u001b[0m\n\u001b[1;32m   1529\u001b[0m         \u001b[0;32mtry\u001b[0m\u001b[0;34m:\u001b[0m\u001b[0;34m\u001b[0m\u001b[0;34m\u001b[0m\u001b[0m\n",
            "\u001b[0;32m/usr/local/lib/python3.10/dist-packages/torch/nn/modules/linear.py\u001b[0m in \u001b[0;36mforward\u001b[0;34m(self, input)\u001b[0m\n\u001b[1;32m    112\u001b[0m \u001b[0;34m\u001b[0m\u001b[0m\n\u001b[1;32m    113\u001b[0m     \u001b[0;32mdef\u001b[0m \u001b[0mforward\u001b[0m\u001b[0;34m(\u001b[0m\u001b[0mself\u001b[0m\u001b[0;34m,\u001b[0m \u001b[0minput\u001b[0m\u001b[0;34m:\u001b[0m \u001b[0mTensor\u001b[0m\u001b[0;34m)\u001b[0m \u001b[0;34m->\u001b[0m \u001b[0mTensor\u001b[0m\u001b[0;34m:\u001b[0m\u001b[0;34m\u001b[0m\u001b[0;34m\u001b[0m\u001b[0m\n\u001b[0;32m--> 114\u001b[0;31m         \u001b[0;32mreturn\u001b[0m \u001b[0mF\u001b[0m\u001b[0;34m.\u001b[0m\u001b[0mlinear\u001b[0m\u001b[0;34m(\u001b[0m\u001b[0minput\u001b[0m\u001b[0;34m,\u001b[0m \u001b[0mself\u001b[0m\u001b[0;34m.\u001b[0m\u001b[0mweight\u001b[0m\u001b[0;34m,\u001b[0m \u001b[0mself\u001b[0m\u001b[0;34m.\u001b[0m\u001b[0mbias\u001b[0m\u001b[0;34m)\u001b[0m\u001b[0;34m\u001b[0m\u001b[0;34m\u001b[0m\u001b[0m\n\u001b[0m\u001b[1;32m    115\u001b[0m \u001b[0;34m\u001b[0m\u001b[0m\n\u001b[1;32m    116\u001b[0m     \u001b[0;32mdef\u001b[0m \u001b[0mextra_repr\u001b[0m\u001b[0;34m(\u001b[0m\u001b[0mself\u001b[0m\u001b[0;34m)\u001b[0m \u001b[0;34m->\u001b[0m \u001b[0mstr\u001b[0m\u001b[0;34m:\u001b[0m\u001b[0;34m\u001b[0m\u001b[0;34m\u001b[0m\u001b[0m\n",
            "\u001b[0;31mRuntimeError\u001b[0m: mat1 and mat2 shapes cannot be multiplied (1280x600 and 40x100)"
          ]
        }
      ]
    },
    {
      "cell_type": "code",
      "source": [
        "model.load_state_dict(torch.load('/content/drive/My Drive/emergentallVAE_epochs_728_all_ICA_sent5_progressive_strict.pth'))\n"
      ],
      "metadata": {
        "colab": {
          "base_uri": "https://localhost:8080/"
        },
        "id": "bMhPMa1uS5ac",
        "outputId": "733d398e-d023-4091-8bef-fc9f1d5f73fd"
      },
      "execution_count": null,
      "outputs": [
        {
          "output_type": "execute_result",
          "data": {
            "text/plain": [
              "<All keys matched successfully>"
            ]
          },
          "metadata": {},
          "execution_count": 19
        }
      ]
    },
    {
      "cell_type": "code",
      "source": [
        "#Better way to save and load:\n",
        "torch.save({\n",
        "    'model_state_dict': model.state_dict(),\n",
        "    'optimizer_state_dict': optimizer.state_dict(),\n",
        "    'epoch': epoch,\n",
        "    'losses': losses,\n",
        "    'validation_losses':val_losses\n",
        "}, '/content/drive/My Drive/checkpoints_epochs_353_ICA_all_sent5_progressive.pth')"
      ],
      "metadata": {
        "id": "7UPU5IQ2hV9e"
      },
      "execution_count": null,
      "outputs": []
    },
    {
      "cell_type": "code",
      "source": [
        "print(\"Running inference on entire dataset...\")\n",
        "model.train()\n",
        "# losses = []\n",
        "labels = []\n",
        "messages = []\n",
        "embeddings = []\n",
        "model.Sender.training = False\n",
        "for epoch in range(epochs,epochs+1):\n",
        "    overall_loss = 0\n",
        "    for batch_idx, (x, _) in enumerate(loader):\n",
        "        x = x.to(DEVICE)\n",
        "        x_hat, message,z,embedding = model(x)\n",
        "        x = x.unsqueeze(1)\n",
        "        x = x.expand(-1, sentence_length, -1, -1, -1)\n",
        "        labels.extend(_)\n",
        "        # print(_)\n",
        "        messages.extend(message)\n",
        "        # embeddings.extend(embedding[:,-1,:])\n",
        "\n",
        "model.Sender.training = True\n",
        "print(\"Finish!!\")"
      ],
      "metadata": {
        "colab": {
          "base_uri": "https://localhost:8080/"
        },
        "id": "Ip2SplyVS-Pw",
        "outputId": "daa82e31-cb5a-40a6-ea09-a8931babba16"
      },
      "execution_count": null,
      "outputs": [
        {
          "output_type": "stream",
          "name": "stdout",
          "text": [
            "Start training VQ-VAE...\n",
            "Finish!!\n"
          ]
        }
      ]
    },
    {
      "cell_type": "code",
      "source": [
        "import pandas as pd, numpy as np\n",
        "lookup_100 = set()\n",
        "lookup_100_new = set()\n",
        "lookup_80 = set()\n",
        "lookup_60 = set()\n",
        "lookup_40 = set()\n",
        "lookup_20 = set()\n",
        "# label_df_100_recovery = pd.read_csv(\"/content/ClusterNames.csv\")\n",
        "label_df_100_recovery_new = pd.read_csv(\"/content/drive/My Drive/ClusterNames_100.csv\")\n",
        "label_df_80_recovery = pd.read_csv(\"/content/drive/My Drive/ClusterNames_80.csv\")\n",
        "label_df_60_recovery = pd.read_csv(\"/content/drive/My Drive/ClusterNames_60.csv\")\n",
        "label_df_40_recovery = pd.read_csv(\"/content/drive/My Drive/ClusterNames_40.csv\")\n",
        "label_df_20_recovery = pd.read_csv(\"/content/drive/My Drive/ClusterNames_20.csv\")\n",
        "# label_names_100 = list(label_df_100_recovery['Cluster Name 100'])\n",
        "label_names_100_new = list(label_df_100_recovery_new['Cluster Name 100'])\n",
        "label_names_80 = list(label_df_80_recovery['Cluster Name 100'])\n",
        "label_names_60 = list(label_df_60_recovery['Cluster Name 100'])\n",
        "label_names_40 = list(label_df_40_recovery['Cluster Name 100'])\n",
        "label_names_20 = list(label_df_20_recovery['Cluster Name 100'])\n",
        "# label_names_unique_100 = np.array([x + \"_ICA100\" for x in label_names_100 if x not in lookup_100 and lookup_100.add(x) is None])\n",
        "label_names_unique_100_new = np.array([x + \"_ICA100\" for x in label_names_100_new if x not in lookup_100_new and lookup_100_new.add(x) is None])\n",
        "label_names_unique_80 = np.array([x + \"_ICA80\" for x in label_names_80 if x not in lookup_80 and lookup_80.add(x) is None])\n",
        "label_names_unique_60 = np.array([x + \"_ICA60\" for x in label_names_60 if x not in lookup_60 and lookup_60.add(x) is None])\n",
        "label_names_unique_40 = np.array([x + \"_ICA40\" for x in label_names_40 if x not in lookup_40 and lookup_40.add(x) is None])\n",
        "label_names_unique_20 = np.array([x + \"_ICA20\" for x in label_names_20 if x not in lookup_20 and lookup_20.add(x) is None])\n",
        "# Put them all in one list\n",
        "label_names_unique_all = [label_names_unique_20, label_names_unique_40, label_names_unique_60, label_names_unique_80, label_names_unique_100_new]"
      ],
      "metadata": {
        "id": "bOPptWxCXDgF"
      },
      "execution_count": null,
      "outputs": []
    },
    {
      "cell_type": "code",
      "source": [
        "def generate_messages(messages,labels):\n",
        "    # Assuming you have defined messages, label_names_unique, and labels arrays\n",
        "    output_csv = []\n",
        "    model.Sender.training = False\n",
        "    import csv\n",
        "    for z in range(len(labels)):\n",
        "        message = np.argmax(messages[z].cpu().detach().numpy(),axis=1).astype(int)\n",
        "        # if labels[z]%200 <=57:\n",
        "        test_label = label_names_unique_all[(labels[z]//200) - 1][labels[z]%200]\n",
        "        # elif labels[z]%200 == 58:\n",
        "        #   test_label = \"CEREBELLAR-LATERAL-LEFT-SUPERIOR_ICA100\"\n",
        "        # elif labels[z]%200 == 59:\n",
        "        #   test_label = \"CEREBELLAR-LATERAL-RIGHT-SUPERIOR_ICA100\"\n",
        "\n",
        "\n",
        "\n",
        "        result = np.concatenate((message[:len(message)-1].reshape(1, -1), np.array([test_label]).reshape(1, -1)), axis=1)\n",
        "\n",
        "        # Convert the numpy array to a list of integers and append to output_csv\n",
        "        output_csv.append(result.tolist()[0])\n",
        "\n",
        "    # Write the mixed data types to the CSV file\n",
        "    with open(\"corrected_vocab100_sent_5_epoch_1373_2040100_ICA_progressive_strict.csv\", \"w\", newline=\"\") as file:\n",
        "        writer = csv.writer(file)\n",
        "        writer.writerows(output_csv)\n",
        "\n",
        "    model.Sender.training = True\n",
        "    return output_csv\n"
      ],
      "metadata": {
        "id": "MFcCabTfUcpS"
      },
      "execution_count": null,
      "outputs": []
    },
    {
      "cell_type": "code",
      "source": [
        "def generate_messages(messages,labels):\n",
        "    # Assuming you have defined messages, label_names_unique, and labels arrays\n",
        "    output_csv = []\n",
        "    model.Sender.training = False\n",
        "    import csv\n",
        "    for z in range(len(labels)):\n",
        "        message = np.argmax(messages[z].cpu().detach().numpy(),axis=1).astype(int)\n",
        "        test_label = label_names_unique_all[(labels[z]//200) - 1][labels[z]%200]\n",
        "\n",
        "        result = np.concatenate((message[:len(message)-1].reshape(1, -1), np.array([test_label]).reshape(1, -1)), axis=1)\n",
        "\n",
        "        # Convert the numpy array to a list of integers and append to output_csv\n",
        "        output_csv.append(result.tolist()[0])\n",
        "\n",
        "    # Write the mixed data types to the CSV file\n",
        "    with open(\"corrected_table_sent_5_epoch_197_261_all_ICA_progressive_strict_assymmetry.csv\", \"w\", newline=\"\") as file:\n",
        "        writer = csv.writer(file)\n",
        "        writer.writerows(output_csv)\n",
        "\n",
        "    model.Sender.training = True\n",
        "    return output_csv\n"
      ],
      "metadata": {
        "id": "lt3vYi3gh9Xk"
      },
      "execution_count": null,
      "outputs": []
    },
    {
      "cell_type": "code",
      "source": [
        "output = generate_messages(messages,labels)"
      ],
      "metadata": {
        "id": "QIgvvl4zUgd5"
      },
      "execution_count": null,
      "outputs": []
    },
    {
      "cell_type": "code",
      "source": [
        "print(len(label_names_unique_80))"
      ],
      "metadata": {
        "colab": {
          "base_uri": "https://localhost:8080/"
        },
        "id": "hcoSGRfVUhx9",
        "outputId": "740fcffe-47be-46d7-9cc1-e20d0275eac0"
      },
      "execution_count": null,
      "outputs": [
        {
          "output_type": "stream",
          "name": "stdout",
          "text": [
            "51\n"
          ]
        }
      ]
    },
    {
      "cell_type": "code",
      "source": [
        "newlabels = {\n",
        "    \"DMN\": 0, \"ATTENTION\": 1, \"MOTOR\": 2, \"VISUAL\": 3, \"EXECUTIVE\": 4,\n",
        "    \"SENSORY\": 5, \"SALIENCE\": 6, \"AUDITORY\": 7, \"COGNITIVE\": 8, \"BASALGANGLIA\": 9,\n",
        "    \"LANG\": 10, \"CEREBELLAR\": 11, \"HYPOTHALAMUS\": 12, \"THALAMUS\": 13, \"OTHERS\": 14\n",
        "}\n",
        "newnumbers = {value: key for key, value in newlabels.items()}"
      ],
      "metadata": {
        "id": "qwVD2dyENdV1"
      },
      "execution_count": null,
      "outputs": []
    },
    {
      "cell_type": "code",
      "source": [
        "def custom_distance_network(u, v):\n",
        "    for i in range(len(u)):\n",
        "        if u[i] != v[i]:\n",
        "            return sentence_length - i\n",
        "    return 0\n",
        "def generate_messages_network(messages,labels):\n",
        "    # Assuming you have defined messages, label_names_unique, and labels arrays\n",
        "    output_csv = []\n",
        "    group_csv = []\n",
        "\n",
        "    model.Sender.training = False\n",
        "    message = []\n",
        "    n = 2000\n",
        "    maxdist = 3\n",
        "    import csv\n",
        "    # labelsused = [0 for i in range(58)]\n",
        "    for z in range(len(labels)):\n",
        "        group = 8\n",
        "        for i in newlabels:\n",
        "            if label_names_unique_all[(labels[z]//200) - 1][labels[z]%200][:len(i)] == i and newlabels[i]<=7:\n",
        "                group = newlabels[i]\n",
        "        message.append(np.argmax(messages[z],axis=1).astype(int))\n",
        "        result = np.concatenate((np.array(label_names_unique_all[(labels[z]//200) - 1][labels[z]%200]+str(z)).reshape(1,-1), np.array(group).reshape(1,-1)), axis=1)\n",
        "        if z < n:\n",
        "            group_csv.append(result.tolist()[0])\n",
        "\n",
        "        # test_label = label_names_unique[labels[z]]\n",
        "\n",
        "        # result = np.concatenate((message[:len(message)-1].reshape(1, -1), np.array([test_label]).reshape(1, -1)), axis=1)\n",
        "\n",
        "        # # Convert the numpy array to a list of integers and append to output_csv\n",
        "        # output_csv.append(result.tolist()[0])\n",
        "    message= np.array(message)\n",
        "\n",
        "    counts = [0 for i in range(maxdist+1)]\n",
        "    for i in range(n):\n",
        "        for j in range(n):\n",
        "            dist = custom_distance_network(message[i],message[j])\n",
        "            if dist <=maxdist:\n",
        "                # if dist == 0 or dist ==1 or dist ==2:\n",
        "                #     print(dist)\n",
        "                #     print(message[i])\n",
        "                #     print(message[j])\n",
        "\n",
        "                counts[dist] += 1\n",
        "                test_labeli = label_names_unique_all[(labels[i]//200) - 1][labels[i]%200] + str(i)\n",
        "                test_labelj = label_names_unique_all[(labels[j]//200) - 1][labels[j]%200] + str(j)\n",
        "                # print(\"test_label\",test_label.shape)\n",
        "                # print(\"message\",message[i][:len(message[i])-1].reshape(1, -1).shape)\n",
        "                result = np.concatenate((np.array([test_labeli,test_labelj]).reshape(1,-1),np.array([dist]).reshape(1,-1)), axis=1)\n",
        "                output_csv.append(result.tolist()[0])\n",
        "\n",
        "    print(counts)\n",
        "    # Write the mixed data types to the CSV file\n",
        "    with open(str(n)+\"maxdist\"+ str(maxdist)+ \"distances_sent_5_epoch_728_iterative_all.csv\", \"w\", newline=\"\") as file:\n",
        "        writer = csv.writer(file)\n",
        "        writer.writerows(output_csv)\n",
        "    with open(str(n)+\"maxdist\"+ str(maxdist)+\"groups1_sent_5_epoch_728_iterative_all.csv\", \"w\", newline=\"\") as file:\n",
        "        writer = csv.writer(file)\n",
        "        writer.writerows(group_csv)\n",
        "\n",
        "    model.Sender.training = True\n",
        "    # return output_csv\n"
      ],
      "metadata": {
        "id": "-Y8McxzXkJ1w"
      },
      "execution_count": null,
      "outputs": []
    },
    {
      "cell_type": "code",
      "source": [
        "messages1 = torch.stack(messages)[:,:,:]\n",
        "generate_messages_network(messages1.cpu().detach().numpy(),labels)"
      ],
      "metadata": {
        "colab": {
          "base_uri": "https://localhost:8080/"
        },
        "id": "HGPnFIItOIBl",
        "outputId": "70eff8d1-92d1-4f1a-bdd9-69c3dd601c3c"
      },
      "execution_count": null,
      "outputs": [
        {
          "output_type": "stream",
          "name": "stdout",
          "text": [
            "[2110, 280, 1030, 5604]\n"
          ]
        }
      ]
    },
    {
      "cell_type": "code",
      "source": [
        "import pandas as pd, numpy as np\n",
        "lookup_100 = set()\n",
        "lookup_80 = set()\n",
        "lookup_60 = set()\n",
        "lookup_40 = set()\n",
        "lookup_20 = set()\n",
        "label_df_100_recovery = pd.read_csv(\"/home/azureuser/cloudfiles/code/Users/apallik1/Inference Codes and Required Docs/ClusterNames/ClusterNames_100.csv\")\n",
        "label_df_80_recovery = pd.read_csv(\"/home/azureuser/cloudfiles/code/Users/apallik1/Inference Codes and Required Docs/ClusterNames/ClusterNames_80.csv\")\n",
        "label_df_60_recovery = pd.read_csv(\"/home/azureuser/cloudfiles/code/Users/apallik1/Inference Codes and Required Docs/ClusterNames/ClusterNames_60.csv\")\n",
        "label_df_40_recovery = pd.read_csv(\"/home/azureuser/cloudfiles/code/Users/apallik1/Inference Codes and Required Docs/ClusterNames/ClusterNames_40.csv\")\n",
        "label_df_20_recovery = pd.read_csv(\"/home/azureuser/cloudfiles/code/Users/apallik1/Inference Codes and Required Docs/ClusterNames/ClusterNames_20.csv\")\n",
        "label_names_100 = list(label_df_100_recovery['Cluster Name 100'])\n",
        "label_names_80 = list(label_df_80_recovery['Cluster Name 100'])\n",
        "label_names_60 = list(label_df_60_recovery['Cluster Name 100'])\n",
        "label_names_40 = list(label_df_40_recovery['Cluster Name 100'])\n",
        "label_names_20 = list(label_df_20_recovery['Cluster Name 100'])\n",
        "label_names_unique_100 = np.array([x + \"_ICA100\" for x in label_names_100 if x not in lookup_100 and lookup_100.add(x) is None])\n",
        "label_names_unique_80 = np.array([x + \"_ICA80\" for x in label_names_80 if x not in lookup_80 and lookup_80.add(x) is None])\n",
        "label_names_unique_60 = np.array([x + \"_ICA60\" for x in label_names_60 if x not in lookup_60 and lookup_60.add(x) is None])\n",
        "label_names_unique_40 = np.array([x + \"_ICA40\" for x in label_names_40 if x not in lookup_40 and lookup_40.add(x) is None])\n",
        "label_names_unique_20 = np.array([x + \"_ICA20\" for x in label_names_20 if x not in lookup_20 and lookup_20.add(x) is None])\n",
        "# Put them all in one list\n",
        "label_names_unique_all = [label_names_unique_20, label_names_unique_40, label_names_unique_60, label_names_unique_80, label_names_unique_100]"
      ],
      "metadata": {
        "colab": {
          "base_uri": "https://localhost:8080/",
          "height": 390
        },
        "id": "s2xQ0wK3ieTL",
        "outputId": "72a4857c-a658-43f0-9051-37389e866270"
      },
      "execution_count": null,
      "outputs": [
        {
          "output_type": "error",
          "ename": "FileNotFoundError",
          "evalue": "[Errno 2] No such file or directory: '/home/azureuser/cloudfiles/code/Users/apallik1/Inference Codes and Required Docs/ClusterNames/ClusterNames_100.csv'",
          "traceback": [
            "\u001b[0;31m---------------------------------------------------------------------------\u001b[0m",
            "\u001b[0;31mFileNotFoundError\u001b[0m                         Traceback (most recent call last)",
            "\u001b[0;32m<ipython-input-30-cd46f6791a42>\u001b[0m in \u001b[0;36m<cell line: 7>\u001b[0;34m()\u001b[0m\n\u001b[1;32m      5\u001b[0m \u001b[0mlookup_40\u001b[0m \u001b[0;34m=\u001b[0m \u001b[0mset\u001b[0m\u001b[0;34m(\u001b[0m\u001b[0;34m)\u001b[0m\u001b[0;34m\u001b[0m\u001b[0;34m\u001b[0m\u001b[0m\n\u001b[1;32m      6\u001b[0m \u001b[0mlookup_20\u001b[0m \u001b[0;34m=\u001b[0m \u001b[0mset\u001b[0m\u001b[0;34m(\u001b[0m\u001b[0;34m)\u001b[0m\u001b[0;34m\u001b[0m\u001b[0;34m\u001b[0m\u001b[0m\n\u001b[0;32m----> 7\u001b[0;31m \u001b[0mlabel_df_100_recovery\u001b[0m \u001b[0;34m=\u001b[0m \u001b[0mpd\u001b[0m\u001b[0;34m.\u001b[0m\u001b[0mread_csv\u001b[0m\u001b[0;34m(\u001b[0m\u001b[0;34m\"/home/azureuser/cloudfiles/code/Users/apallik1/Inference Codes and Required Docs/ClusterNames/ClusterNames_100.csv\"\u001b[0m\u001b[0;34m)\u001b[0m\u001b[0;34m\u001b[0m\u001b[0;34m\u001b[0m\u001b[0m\n\u001b[0m\u001b[1;32m      8\u001b[0m \u001b[0mlabel_df_80_recovery\u001b[0m \u001b[0;34m=\u001b[0m \u001b[0mpd\u001b[0m\u001b[0;34m.\u001b[0m\u001b[0mread_csv\u001b[0m\u001b[0;34m(\u001b[0m\u001b[0;34m\"/home/azureuser/cloudfiles/code/Users/apallik1/Inference Codes and Required Docs/ClusterNames/ClusterNames_80.csv\"\u001b[0m\u001b[0;34m)\u001b[0m\u001b[0;34m\u001b[0m\u001b[0;34m\u001b[0m\u001b[0m\n\u001b[1;32m      9\u001b[0m \u001b[0mlabel_df_60_recovery\u001b[0m \u001b[0;34m=\u001b[0m \u001b[0mpd\u001b[0m\u001b[0;34m.\u001b[0m\u001b[0mread_csv\u001b[0m\u001b[0;34m(\u001b[0m\u001b[0;34m\"/home/azureuser/cloudfiles/code/Users/apallik1/Inference Codes and Required Docs/ClusterNames/ClusterNames_60.csv\"\u001b[0m\u001b[0;34m)\u001b[0m\u001b[0;34m\u001b[0m\u001b[0;34m\u001b[0m\u001b[0m\n",
            "\u001b[0;32m/usr/local/lib/python3.10/dist-packages/pandas/util/_decorators.py\u001b[0m in \u001b[0;36mwrapper\u001b[0;34m(*args, **kwargs)\u001b[0m\n\u001b[1;32m    209\u001b[0m                 \u001b[0;32melse\u001b[0m\u001b[0;34m:\u001b[0m\u001b[0;34m\u001b[0m\u001b[0;34m\u001b[0m\u001b[0m\n\u001b[1;32m    210\u001b[0m                     \u001b[0mkwargs\u001b[0m\u001b[0;34m[\u001b[0m\u001b[0mnew_arg_name\u001b[0m\u001b[0;34m]\u001b[0m \u001b[0;34m=\u001b[0m \u001b[0mnew_arg_value\u001b[0m\u001b[0;34m\u001b[0m\u001b[0;34m\u001b[0m\u001b[0m\n\u001b[0;32m--> 211\u001b[0;31m             \u001b[0;32mreturn\u001b[0m \u001b[0mfunc\u001b[0m\u001b[0;34m(\u001b[0m\u001b[0;34m*\u001b[0m\u001b[0margs\u001b[0m\u001b[0;34m,\u001b[0m \u001b[0;34m**\u001b[0m\u001b[0mkwargs\u001b[0m\u001b[0;34m)\u001b[0m\u001b[0;34m\u001b[0m\u001b[0;34m\u001b[0m\u001b[0m\n\u001b[0m\u001b[1;32m    212\u001b[0m \u001b[0;34m\u001b[0m\u001b[0m\n\u001b[1;32m    213\u001b[0m         \u001b[0;32mreturn\u001b[0m \u001b[0mcast\u001b[0m\u001b[0;34m(\u001b[0m\u001b[0mF\u001b[0m\u001b[0;34m,\u001b[0m \u001b[0mwrapper\u001b[0m\u001b[0;34m)\u001b[0m\u001b[0;34m\u001b[0m\u001b[0;34m\u001b[0m\u001b[0m\n",
            "\u001b[0;32m/usr/local/lib/python3.10/dist-packages/pandas/util/_decorators.py\u001b[0m in \u001b[0;36mwrapper\u001b[0;34m(*args, **kwargs)\u001b[0m\n\u001b[1;32m    329\u001b[0m                     \u001b[0mstacklevel\u001b[0m\u001b[0;34m=\u001b[0m\u001b[0mfind_stack_level\u001b[0m\u001b[0;34m(\u001b[0m\u001b[0;34m)\u001b[0m\u001b[0;34m,\u001b[0m\u001b[0;34m\u001b[0m\u001b[0;34m\u001b[0m\u001b[0m\n\u001b[1;32m    330\u001b[0m                 )\n\u001b[0;32m--> 331\u001b[0;31m             \u001b[0;32mreturn\u001b[0m \u001b[0mfunc\u001b[0m\u001b[0;34m(\u001b[0m\u001b[0;34m*\u001b[0m\u001b[0margs\u001b[0m\u001b[0;34m,\u001b[0m \u001b[0;34m**\u001b[0m\u001b[0mkwargs\u001b[0m\u001b[0;34m)\u001b[0m\u001b[0;34m\u001b[0m\u001b[0;34m\u001b[0m\u001b[0m\n\u001b[0m\u001b[1;32m    332\u001b[0m \u001b[0;34m\u001b[0m\u001b[0m\n\u001b[1;32m    333\u001b[0m         \u001b[0;31m# error: \"Callable[[VarArg(Any), KwArg(Any)], Any]\" has no\u001b[0m\u001b[0;34m\u001b[0m\u001b[0;34m\u001b[0m\u001b[0m\n",
            "\u001b[0;32m/usr/local/lib/python3.10/dist-packages/pandas/io/parsers/readers.py\u001b[0m in \u001b[0;36mread_csv\u001b[0;34m(filepath_or_buffer, sep, delimiter, header, names, index_col, usecols, squeeze, prefix, mangle_dupe_cols, dtype, engine, converters, true_values, false_values, skipinitialspace, skiprows, skipfooter, nrows, na_values, keep_default_na, na_filter, verbose, skip_blank_lines, parse_dates, infer_datetime_format, keep_date_col, date_parser, dayfirst, cache_dates, iterator, chunksize, compression, thousands, decimal, lineterminator, quotechar, quoting, doublequote, escapechar, comment, encoding, encoding_errors, dialect, error_bad_lines, warn_bad_lines, on_bad_lines, delim_whitespace, low_memory, memory_map, float_precision, storage_options)\u001b[0m\n\u001b[1;32m    948\u001b[0m     \u001b[0mkwds\u001b[0m\u001b[0;34m.\u001b[0m\u001b[0mupdate\u001b[0m\u001b[0;34m(\u001b[0m\u001b[0mkwds_defaults\u001b[0m\u001b[0;34m)\u001b[0m\u001b[0;34m\u001b[0m\u001b[0;34m\u001b[0m\u001b[0m\n\u001b[1;32m    949\u001b[0m \u001b[0;34m\u001b[0m\u001b[0m\n\u001b[0;32m--> 950\u001b[0;31m     \u001b[0;32mreturn\u001b[0m \u001b[0m_read\u001b[0m\u001b[0;34m(\u001b[0m\u001b[0mfilepath_or_buffer\u001b[0m\u001b[0;34m,\u001b[0m \u001b[0mkwds\u001b[0m\u001b[0;34m)\u001b[0m\u001b[0;34m\u001b[0m\u001b[0;34m\u001b[0m\u001b[0m\n\u001b[0m\u001b[1;32m    951\u001b[0m \u001b[0;34m\u001b[0m\u001b[0m\n\u001b[1;32m    952\u001b[0m \u001b[0;34m\u001b[0m\u001b[0m\n",
            "\u001b[0;32m/usr/local/lib/python3.10/dist-packages/pandas/io/parsers/readers.py\u001b[0m in \u001b[0;36m_read\u001b[0;34m(filepath_or_buffer, kwds)\u001b[0m\n\u001b[1;32m    603\u001b[0m \u001b[0;34m\u001b[0m\u001b[0m\n\u001b[1;32m    604\u001b[0m     \u001b[0;31m# Create the parser.\u001b[0m\u001b[0;34m\u001b[0m\u001b[0;34m\u001b[0m\u001b[0m\n\u001b[0;32m--> 605\u001b[0;31m     \u001b[0mparser\u001b[0m \u001b[0;34m=\u001b[0m \u001b[0mTextFileReader\u001b[0m\u001b[0;34m(\u001b[0m\u001b[0mfilepath_or_buffer\u001b[0m\u001b[0;34m,\u001b[0m \u001b[0;34m**\u001b[0m\u001b[0mkwds\u001b[0m\u001b[0;34m)\u001b[0m\u001b[0;34m\u001b[0m\u001b[0;34m\u001b[0m\u001b[0m\n\u001b[0m\u001b[1;32m    606\u001b[0m \u001b[0;34m\u001b[0m\u001b[0m\n\u001b[1;32m    607\u001b[0m     \u001b[0;32mif\u001b[0m \u001b[0mchunksize\u001b[0m \u001b[0;32mor\u001b[0m \u001b[0miterator\u001b[0m\u001b[0;34m:\u001b[0m\u001b[0;34m\u001b[0m\u001b[0;34m\u001b[0m\u001b[0m\n",
            "\u001b[0;32m/usr/local/lib/python3.10/dist-packages/pandas/io/parsers/readers.py\u001b[0m in \u001b[0;36m__init__\u001b[0;34m(self, f, engine, **kwds)\u001b[0m\n\u001b[1;32m   1440\u001b[0m \u001b[0;34m\u001b[0m\u001b[0m\n\u001b[1;32m   1441\u001b[0m         \u001b[0mself\u001b[0m\u001b[0;34m.\u001b[0m\u001b[0mhandles\u001b[0m\u001b[0;34m:\u001b[0m \u001b[0mIOHandles\u001b[0m \u001b[0;34m|\u001b[0m \u001b[0;32mNone\u001b[0m \u001b[0;34m=\u001b[0m \u001b[0;32mNone\u001b[0m\u001b[0;34m\u001b[0m\u001b[0;34m\u001b[0m\u001b[0m\n\u001b[0;32m-> 1442\u001b[0;31m         \u001b[0mself\u001b[0m\u001b[0;34m.\u001b[0m\u001b[0m_engine\u001b[0m \u001b[0;34m=\u001b[0m \u001b[0mself\u001b[0m\u001b[0;34m.\u001b[0m\u001b[0m_make_engine\u001b[0m\u001b[0;34m(\u001b[0m\u001b[0mf\u001b[0m\u001b[0;34m,\u001b[0m \u001b[0mself\u001b[0m\u001b[0;34m.\u001b[0m\u001b[0mengine\u001b[0m\u001b[0;34m)\u001b[0m\u001b[0;34m\u001b[0m\u001b[0;34m\u001b[0m\u001b[0m\n\u001b[0m\u001b[1;32m   1443\u001b[0m \u001b[0;34m\u001b[0m\u001b[0m\n\u001b[1;32m   1444\u001b[0m     \u001b[0;32mdef\u001b[0m \u001b[0mclose\u001b[0m\u001b[0;34m(\u001b[0m\u001b[0mself\u001b[0m\u001b[0;34m)\u001b[0m \u001b[0;34m->\u001b[0m \u001b[0;32mNone\u001b[0m\u001b[0;34m:\u001b[0m\u001b[0;34m\u001b[0m\u001b[0;34m\u001b[0m\u001b[0m\n",
            "\u001b[0;32m/usr/local/lib/python3.10/dist-packages/pandas/io/parsers/readers.py\u001b[0m in \u001b[0;36m_make_engine\u001b[0;34m(self, f, engine)\u001b[0m\n\u001b[1;32m   1733\u001b[0m                 \u001b[0;32mif\u001b[0m \u001b[0;34m\"b\"\u001b[0m \u001b[0;32mnot\u001b[0m \u001b[0;32min\u001b[0m \u001b[0mmode\u001b[0m\u001b[0;34m:\u001b[0m\u001b[0;34m\u001b[0m\u001b[0;34m\u001b[0m\u001b[0m\n\u001b[1;32m   1734\u001b[0m                     \u001b[0mmode\u001b[0m \u001b[0;34m+=\u001b[0m \u001b[0;34m\"b\"\u001b[0m\u001b[0;34m\u001b[0m\u001b[0;34m\u001b[0m\u001b[0m\n\u001b[0;32m-> 1735\u001b[0;31m             self.handles = get_handle(\n\u001b[0m\u001b[1;32m   1736\u001b[0m                 \u001b[0mf\u001b[0m\u001b[0;34m,\u001b[0m\u001b[0;34m\u001b[0m\u001b[0;34m\u001b[0m\u001b[0m\n\u001b[1;32m   1737\u001b[0m                 \u001b[0mmode\u001b[0m\u001b[0;34m,\u001b[0m\u001b[0;34m\u001b[0m\u001b[0;34m\u001b[0m\u001b[0m\n",
            "\u001b[0;32m/usr/local/lib/python3.10/dist-packages/pandas/io/common.py\u001b[0m in \u001b[0;36mget_handle\u001b[0;34m(path_or_buf, mode, encoding, compression, memory_map, is_text, errors, storage_options)\u001b[0m\n\u001b[1;32m    854\u001b[0m         \u001b[0;32mif\u001b[0m \u001b[0mioargs\u001b[0m\u001b[0;34m.\u001b[0m\u001b[0mencoding\u001b[0m \u001b[0;32mand\u001b[0m \u001b[0;34m\"b\"\u001b[0m \u001b[0;32mnot\u001b[0m \u001b[0;32min\u001b[0m \u001b[0mioargs\u001b[0m\u001b[0;34m.\u001b[0m\u001b[0mmode\u001b[0m\u001b[0;34m:\u001b[0m\u001b[0;34m\u001b[0m\u001b[0;34m\u001b[0m\u001b[0m\n\u001b[1;32m    855\u001b[0m             \u001b[0;31m# Encoding\u001b[0m\u001b[0;34m\u001b[0m\u001b[0;34m\u001b[0m\u001b[0m\n\u001b[0;32m--> 856\u001b[0;31m             handle = open(\n\u001b[0m\u001b[1;32m    857\u001b[0m                 \u001b[0mhandle\u001b[0m\u001b[0;34m,\u001b[0m\u001b[0;34m\u001b[0m\u001b[0;34m\u001b[0m\u001b[0m\n\u001b[1;32m    858\u001b[0m                 \u001b[0mioargs\u001b[0m\u001b[0;34m.\u001b[0m\u001b[0mmode\u001b[0m\u001b[0;34m,\u001b[0m\u001b[0;34m\u001b[0m\u001b[0;34m\u001b[0m\u001b[0m\n",
            "\u001b[0;31mFileNotFoundError\u001b[0m: [Errno 2] No such file or directory: '/home/azureuser/cloudfiles/code/Users/apallik1/Inference Codes and Required Docs/ClusterNames/ClusterNames_100.csv'"
          ]
        }
      ]
    },
    {
      "cell_type": "code",
      "source": [
        "# messages = torch.stack(messages)[:,:,:]\n",
        "output = generate_messages(messages,labels)"
      ],
      "metadata": {
        "id": "b5wh53xLOV5Z"
      },
      "execution_count": null,
      "outputs": []
    },
    {
      "cell_type": "code",
      "source": [
        "!pip freeze > requirements.txt"
      ],
      "metadata": {
        "id": "34760QMSiT74"
      },
      "execution_count": null,
      "outputs": []
    },
    {
      "cell_type": "code",
      "source": [],
      "metadata": {
        "id": "7ctEncnx8kL2"
      },
      "execution_count": null,
      "outputs": []
    }
  ]
}